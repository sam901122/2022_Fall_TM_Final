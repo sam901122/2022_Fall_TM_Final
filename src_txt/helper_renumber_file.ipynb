{
 "cells": [
  {
   "attachments": {},
   "cell_type": "markdown",
   "metadata": {},
   "source": [
    "# Renumber files"
   ]
  },
  {
   "cell_type": "code",
   "execution_count": 1,
   "metadata": {},
   "outputs": [],
   "source": [
    "import os "
   ]
  },
  {
   "cell_type": "code",
   "execution_count": 5,
   "metadata": {},
   "outputs": [],
   "source": [
    "fileNames = os.listdir( './' )\n",
    "\n",
    "for i in range( len( fileNames ) ):\n",
    "    fileName = fileNames[ i ]\n",
    "    if fileName.endswith( '.txt' ) == False:\n",
    "        continue\n",
    "\n",
    "    newFileName = f'{i}__.txt'\n",
    "\n",
    "    fileSrc = './' + fileName\n",
    "    fileDes = './' + newFileName\n",
    "\n",
    "    os.rename( fileSrc, fileDes )"
   ]
  },
  {
   "cell_type": "code",
   "execution_count": null,
   "metadata": {},
   "outputs": [],
   "source": [
    "fileNames = os.listdir( './' )\n",
    "\n",
    "for i in range( len( fileNames ) ):\n",
    "    fileName = fileNames[ i ]\n",
    "    if fileName.endswith( '.txt' ) == False:\n",
    "        continue\n",
    "\n",
    "    newFileName = f'{i}.txt'\n",
    "\n",
    "    fileSrc = './' + fileName\n",
    "    fileDes = './' + newFileName\n",
    "\n",
    "    os.rename( fileSrc, fileDes )"
   ]
  }
 ],
 "metadata": {
  "kernelspec": {
   "display_name": "Python 3",
   "language": "python",
   "name": "python3"
  },
  "language_info": {
   "codemirror_mode": {
    "name": "ipython",
    "version": 3
   },
   "file_extension": ".py",
   "mimetype": "text/x-python",
   "name": "python",
   "nbconvert_exporter": "python",
   "pygments_lexer": "ipython3",
   "version": "3.10.2 (tags/v3.10.2:a58ebcc, Jan 17 2022, 14:12:15) [MSC v.1929 64 bit (AMD64)]"
  },
  "orig_nbformat": 4,
  "vscode": {
   "interpreter": {
    "hash": "356998c43310144b96a2843b6a00592392af50ee3be89b7f2bab29543afc8c0d"
   }
  }
 },
 "nbformat": 4,
 "nbformat_minor": 2
}
