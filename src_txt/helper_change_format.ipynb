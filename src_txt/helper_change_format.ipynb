{
 "cells": [
  {
   "cell_type": "code",
   "execution_count": 1,
   "metadata": {},
   "outputs": [],
   "source": [
    "import os "
   ]
  },
  {
   "cell_type": "code",
   "execution_count": 2,
   "metadata": {},
   "outputs": [],
   "source": [
    "for fileName in os.listdir( './' ):\n",
    "    if fileName.endswith( '.txt' ) == False:\n",
    "        continue\n",
    "\n",
    "    f = open( f'./{fileName}', encoding=\"utf8\" )\n",
    "    doc = f.readlines()\n",
    "    f.close()\n",
    "\n",
    "    title = doc[ 0 ]\n",
    "    url = doc[ 1 ]\n",
    "    body = doc[ 2: ]\n",
    "\n",
    "    body = \"\".join( body ).replace( '\\n', '' )\n",
    "\n",
    "    with open( f'./{fileName}', 'w', encoding='utf-8' ) as f:\n",
    "        f.write( title )\n",
    "        f.write( url )\n",
    "        f.write( body )"
   ]
  },
  {
   "cell_type": "code",
   "execution_count": null,
   "metadata": {},
   "outputs": [],
   "source": []
  }
 ],
 "metadata": {
  "kernelspec": {
   "display_name": "Python 3",
   "language": "python",
   "name": "python3"
  },
  "language_info": {
   "codemirror_mode": {
    "name": "ipython",
    "version": 3
   },
   "file_extension": ".py",
   "mimetype": "text/x-python",
   "name": "python",
   "nbconvert_exporter": "python",
   "pygments_lexer": "ipython3",
   "version": "3.10.2"
  },
  "orig_nbformat": 4,
  "vscode": {
   "interpreter": {
    "hash": "356998c43310144b96a2843b6a00592392af50ee3be89b7f2bab29543afc8c0d"
   }
  }
 },
 "nbformat": 4,
 "nbformat_minor": 2
}
