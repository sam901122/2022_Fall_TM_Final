{
 "cells": [
  {
   "cell_type": "code",
   "execution_count": 6,
   "metadata": {},
   "outputs": [],
   "source": [
    "import os "
   ]
  },
  {
   "cell_type": "code",
   "execution_count": 7,
   "metadata": {},
   "outputs": [
    {
     "ename": "NameError",
     "evalue": "name 'path' is not defined",
     "output_type": "error",
     "traceback": [
      "\u001b[1;31m---------------------------------------------------------------------------\u001b[0m",
      "\u001b[1;31mNameError\u001b[0m                                 Traceback (most recent call last)",
      "\u001b[1;32mc:\\PuSung\\University\\111_Junior\\111-1 Academic\\Text Mining\\Final\\2022_Fall_TM_Final\\src_txt\\changeFileHelper.ipynb Cell 2\u001b[0m in \u001b[0;36m<cell line: 1>\u001b[1;34m()\u001b[0m\n\u001b[1;32m----> <a href='vscode-notebook-cell:/c%3A/PuSung/University/111_Junior/111-1%20Academic/Text%20Mining/Final/2022_Fall_TM_Final/src_txt/changeFileHelper.ipynb#W3sZmlsZQ%3D%3D?line=0'>1</a>\u001b[0m \u001b[39mfor\u001b[39;00m filename \u001b[39min\u001b[39;00m os\u001b[39m.\u001b[39mlistdir(path):\n\u001b[0;32m      <a href='vscode-notebook-cell:/c%3A/PuSung/University/111_Junior/111-1%20Academic/Text%20Mining/Final/2022_Fall_TM_Final/src_txt/changeFileHelper.ipynb#W3sZmlsZQ%3D%3D?line=1'>2</a>\u001b[0m \t\tmy_dest \u001b[39m=\u001b[39m\u001b[39m\"\u001b[39m\u001b[39mnew\u001b[39m\u001b[39m\"\u001b[39m \u001b[39m+\u001b[39m \u001b[39mstr\u001b[39m(i) \u001b[39m+\u001b[39m \u001b[39m\"\u001b[39m\u001b[39m.jpg\u001b[39m\u001b[39m\"\u001b[39m\n\u001b[0;32m      <a href='vscode-notebook-cell:/c%3A/PuSung/University/111_Junior/111-1%20Academic/Text%20Mining/Final/2022_Fall_TM_Final/src_txt/changeFileHelper.ipynb#W3sZmlsZQ%3D%3D?line=2'>3</a>\u001b[0m \t\tmy_source \u001b[39m=\u001b[39mpath \u001b[39m+\u001b[39m filename\n",
      "\u001b[1;31mNameError\u001b[0m: name 'path' is not defined"
     ]
    }
   ],
   "source": [
    "for filename in os.listdir(path):\n",
    "\t\tmy_dest =\"new\" + str(i) + \".jpg\"\n",
    "\t\tmy_source =path + filename\n",
    "\t\tmy_dest =path + my_dest\n",
    "\t\t# rename() function will\n",
    "\t\t# rename all the files\n",
    "\t\tos.rename(my_source, my_dest)\n",
    "\t\ti += 1"
   ]
  },
  {
   "cell_type": "code",
   "execution_count": 8,
   "metadata": {},
   "outputs": [],
   "source": [
    "fileNames = os.listdir( './' )\n",
    "\n",
    "for i in range( len( fileNames ) ):\n",
    "    fileName = fileNames[ i ]\n",
    "    if fileName.endswith( '.txt' ) == False:\n",
    "        continue\n",
    "\n",
    "    newFileName = f'{i}.txt'\n",
    "\n",
    "    fileSrc = './' + fileName\n",
    "    fileDes = './' + newFileName\n",
    "\n",
    "    os.rename( fileSrc, fileDes )"
   ]
  },
  {
   "cell_type": "code",
   "execution_count": null,
   "metadata": {},
   "outputs": [],
   "source": [
    "docs = []\n",
    "for fileName in os.listdir( '../../src_txt/' ):\n",
    "    if fileName.endswith( '.txt' ) == False:\n",
    "        continue\n",
    "\n",
    "    file = open( f'../../src_txt/{fileName}', encoding=\"utf8\" )\n",
    "    doc = file.readlines()[ 2: ]\n",
    "    doc = ''.join( doc ).replace( '\\n', '' )\n",
    "    docs.append( doc )\n",
    "    file.close()"
   ]
  }
 ],
 "metadata": {
  "kernelspec": {
   "display_name": "Python 3",
   "language": "python",
   "name": "python3"
  },
  "language_info": {
   "codemirror_mode": {
    "name": "ipython",
    "version": 3
   },
   "file_extension": ".py",
   "mimetype": "text/x-python",
   "name": "python",
   "nbconvert_exporter": "python",
   "pygments_lexer": "ipython3",
   "version": "3.10.2"
  },
  "orig_nbformat": 4,
  "vscode": {
   "interpreter": {
    "hash": "356998c43310144b96a2843b6a00592392af50ee3be89b7f2bab29543afc8c0d"
   }
  }
 },
 "nbformat": 4,
 "nbformat_minor": 2
}
