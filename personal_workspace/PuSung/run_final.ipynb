{
 "cells": [
  {
   "cell_type": "code",
   "execution_count": 1,
   "metadata": {},
   "outputs": [],
   "source": [
    "import sys\n",
    "import os\n",
    "\n",
    "functionPath = os.path.join( '../../', 'text_mining' )\n",
    "sys.path.append( functionPath )\n",
    "\n",
    "import get_vectors as gv"
   ]
  },
  {
   "cell_type": "code",
   "execution_count": 2,
   "metadata": {},
   "outputs": [],
   "source": [
    "import numpy as np\n",
    "import pandas as pd \n",
    "from sklearn.svm import SVC\n",
    "from sklearn import metrics \n",
    "\n",
    "LABEL_CNT = 3 "
   ]
  },
  {
   "cell_type": "code",
   "execution_count": 3,
   "metadata": {},
   "outputs": [
    {
     "name": "stderr",
     "output_type": "stream",
     "text": [
      "Building prefix dict from the default dictionary ...\n",
      "Loading model from cache C:\\Users\\PuSung\\AppData\\Local\\Temp\\jieba.cache\n",
      "Loading model cost 0.673 seconds.\n",
      "Prefix dict has been built successfully.\n"
     ]
    }
   ],
   "source": [
    "SVD_vec = gv.get_SVD_vectors( '../../text_mining/', '../../src_txt/', 100 )"
   ]
  },
  {
   "cell_type": "code",
   "execution_count": 4,
   "metadata": {},
   "outputs": [],
   "source": [
    "df = pd.read_csv( '../../text_mining/semi_super_label.csv')\n",
    "train_index = sorted( list( set( df['file'] ) ) )"
   ]
  },
  {
   "cell_type": "code",
   "execution_count": 5,
   "metadata": {},
   "outputs": [],
   "source": [
    "Y = []\n",
    "for i in range( len( train_index ) ):\n",
    "    Y.append( [ False ] * LABEL_CNT )\n",
    "    labels = df[ 'labels' ][ i ].rstrip()[1:-1].split(' ')\n",
    "    if labels[0] != '' :\n",
    "        for label in labels : \n",
    "            l = int( label ) - 1 \n",
    "            Y[-1][l] = True  \n",
    "    Y[-1] = np.array( Y[-1] )\n",
    "Y = np.array( Y )"
   ]
  },
  {
   "cell_type": "code",
   "execution_count": 6,
   "metadata": {},
   "outputs": [],
   "source": [
    "X = [SVD_vec[i] for i in train_index]"
   ]
  },
  {
   "cell_type": "code",
   "execution_count": 7,
   "metadata": {},
   "outputs": [],
   "source": [
    "SVM_model0 = SVC( kernel='rbf', C=10, gamma=0.1, probability=True )\n",
    "SVM_model1 = SVC( kernel='rbf', C=1, gamma=1, probability=True )\n",
    "SVM_model2 = SVC( kernel='linear', C=1, probability=True )"
   ]
  }
 ],
 "metadata": {
  "kernelspec": {
   "display_name": "Python 3",
   "language": "python",
   "name": "python3"
  },
  "language_info": {
   "codemirror_mode": {
    "name": "ipython",
    "version": 3
   },
   "file_extension": ".py",
   "mimetype": "text/x-python",
   "name": "python",
   "nbconvert_exporter": "python",
   "pygments_lexer": "ipython3",
   "version": "3.10.2"
  },
  "orig_nbformat": 4,
  "vscode": {
   "interpreter": {
    "hash": "356998c43310144b96a2843b6a00592392af50ee3be89b7f2bab29543afc8c0d"
   }
  }
 },
 "nbformat": 4,
 "nbformat_minor": 2
}
