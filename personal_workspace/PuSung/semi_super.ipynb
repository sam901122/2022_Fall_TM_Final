{
 "cells": [
  {
   "cell_type": "code",
   "execution_count": 1,
   "metadata": {},
   "outputs": [],
   "source": [
    "import sys\n",
    "import os\n",
    "\n",
    "functionPath = os.path.join( '../../', 'text_mining' )\n",
    "sys.path.append( functionPath )\n",
    "\n",
    "import get_vectors as gv"
   ]
  },
  {
   "cell_type": "code",
   "execution_count": 5,
   "metadata": {},
   "outputs": [],
   "source": [
    "SVD_vec = gv.get_SVD_vectors( '../../text_mining/', '../../src_txt/', 100 )"
   ]
  },
  {
   "cell_type": "code",
   "execution_count": 7,
   "metadata": {},
   "outputs": [],
   "source": [
    "LDA_vec = gv.get_LDA_vectors( '../../text_mining/', '../../src_txt/', 100 )"
   ]
  },
  {
   "cell_type": "code",
   "execution_count": 4,
   "metadata": {},
   "outputs": [],
   "source": [
    "import pandas as pd "
   ]
  },
  {
   "cell_type": "markdown",
   "metadata": {},
   "source": [
    "# SVD file"
   ]
  },
  {
   "cell_type": "code",
   "execution_count": 8,
   "metadata": {},
   "outputs": [],
   "source": [
    "with open( 'SVD_vec.txt', 'w' ) as f :\n",
    "    for vec in SVD_vec : \n",
    "        for value in vec : \n",
    "            f.write( str( value ) + ',' )\n",
    "        f.write( '\\n' )"
   ]
  },
  {
   "cell_type": "markdown",
   "metadata": {},
   "source": [
    "# LDA file "
   ]
  },
  {
   "cell_type": "code",
   "execution_count": 9,
   "metadata": {},
   "outputs": [],
   "source": [
    "with open( 'LDA_vec.txt', 'w' ) as f :\n",
    "    for vec in LDA_vec : \n",
    "        for value in vec : \n",
    "            f.write( str( value ) + ',' )\n",
    "        f.write( '\\n' )"
   ]
  },
  {
   "cell_type": "code",
   "execution_count": 10,
   "metadata": {},
   "outputs": [],
   "source": [
    "df = pd.read_csv( '../../text_mining/new_labels.csv')\n",
    "train_index = sorted( list( set( df['file'] ) ) )"
   ]
  },
  {
   "cell_type": "code",
   "execution_count": 11,
   "metadata": {},
   "outputs": [
    {
     "data": {
      "text/plain": [
       "['// Alistone',\n",
       " '// Julie',\n",
       " '// Liang 1: 選情 2: 事件 3: 政策',\n",
       " '// PuSung',\n",
       " '// Rain',\n",
       " '1009',\n",
       " '1016',\n",
       " '1039',\n",
       " '1092',\n",
       " '1099',\n",
       " '1100',\n",
       " '1163',\n",
       " '1190',\n",
       " '1204',\n",
       " '1206',\n",
       " '1219',\n",
       " '1341',\n",
       " '1348',\n",
       " '137',\n",
       " '1429',\n",
       " '1433',\n",
       " '1434',\n",
       " '1457',\n",
       " '1459',\n",
       " '1462',\n",
       " '152',\n",
       " '1525',\n",
       " '1570',\n",
       " '1580',\n",
       " '1587',\n",
       " '1593',\n",
       " '1599',\n",
       " '1651',\n",
       " '1654',\n",
       " '1663',\n",
       " '1670',\n",
       " '1754',\n",
       " '1762',\n",
       " '1845',\n",
       " '1851',\n",
       " '1857',\n",
       " '1862',\n",
       " '1887',\n",
       " '1889',\n",
       " '1914',\n",
       " '1992',\n",
       " '1999',\n",
       " '2024',\n",
       " '2026',\n",
       " '2038',\n",
       " '2074',\n",
       " '2105',\n",
       " '2131',\n",
       " '2149',\n",
       " '2151',\n",
       " '2157',\n",
       " '2240',\n",
       " '2259',\n",
       " '2280',\n",
       " '2296',\n",
       " '2333',\n",
       " '2341',\n",
       " '2347',\n",
       " '2451',\n",
       " '2463',\n",
       " '2512',\n",
       " '254',\n",
       " '2586',\n",
       " '2589',\n",
       " '2615',\n",
       " '2653',\n",
       " '2684',\n",
       " '2716',\n",
       " '285',\n",
       " '293',\n",
       " '304',\n",
       " '337',\n",
       " '35',\n",
       " '37',\n",
       " '376',\n",
       " '39',\n",
       " '390',\n",
       " '418',\n",
       " '430',\n",
       " '453',\n",
       " '48',\n",
       " '501',\n",
       " '506',\n",
       " '521',\n",
       " '529',\n",
       " '598',\n",
       " '599',\n",
       " '614',\n",
       " '708',\n",
       " '764',\n",
       " '786',\n",
       " '788',\n",
       " '796',\n",
       " '822',\n",
       " '830',\n",
       " '847',\n",
       " '853',\n",
       " '867',\n",
       " '894',\n",
       " '978']"
      ]
     },
     "execution_count": 11,
     "metadata": {},
     "output_type": "execute_result"
    }
   ],
   "source": [
    "train_index"
   ]
  },
  {
   "cell_type": "code",
   "execution_count": null,
   "metadata": {},
   "outputs": [],
   "source": []
  }
 ],
 "metadata": {
  "kernelspec": {
   "display_name": "Python 3",
   "language": "python",
   "name": "python3"
  },
  "language_info": {
   "codemirror_mode": {
    "name": "ipython",
    "version": 3
   },
   "file_extension": ".py",
   "mimetype": "text/x-python",
   "name": "python",
   "nbconvert_exporter": "python",
   "pygments_lexer": "ipython3",
   "version": "3.10.2"
  },
  "orig_nbformat": 4,
  "vscode": {
   "interpreter": {
    "hash": "356998c43310144b96a2843b6a00592392af50ee3be89b7f2bab29543afc8c0d"
   }
  }
 },
 "nbformat": 4,
 "nbformat_minor": 2
}
