{
 "cells": [
  {
   "cell_type": "code",
   "execution_count": 54,
   "metadata": {},
   "outputs": [],
   "source": [
    "import sys \n",
    "import os \n",
    "functionPath = os.path.join( '../../', 'text_mining')\n",
    "sys.path.append( functionPath )\n",
    "\n",
    "import get_vectors as gv \n",
    "import pandas as pd \n",
    "import numpy as np\n",
    "\n",
    "LABEL_CNT = 14 "
   ]
  },
  {
   "cell_type": "code",
   "execution_count": 55,
   "metadata": {},
   "outputs": [],
   "source": [
    "LDA_vector = gv.get_SVD_vectors( '../../text_mining/', '../../src_txt/', 100 )"
   ]
  },
  {
   "cell_type": "code",
   "execution_count": 56,
   "metadata": {},
   "outputs": [],
   "source": [
    "doc_cnt = len( LDA_vector )"
   ]
  },
  {
   "cell_type": "code",
   "execution_count": 57,
   "metadata": {},
   "outputs": [],
   "source": [
    "df = pd.read_csv( '../../text_mining/labels.csv')"
   ]
  },
  {
   "cell_type": "code",
   "execution_count": 58,
   "metadata": {},
   "outputs": [],
   "source": [
    "train_index = sorted( list( set( df['file'] ) ) )"
   ]
  },
  {
   "cell_type": "code",
   "execution_count": 59,
   "metadata": {},
   "outputs": [
    {
     "name": "stdout",
     "output_type": "stream",
     "text": [
      "this is good\n"
     ]
    }
   ],
   "source": [
    "random_string = 'this is good    '\n",
    "\n",
    "# 字符串末尾的空格会被删除\n",
    "print(random_string.rstrip())"
   ]
  },
  {
   "cell_type": "code",
   "execution_count": 60,
   "metadata": {},
   "outputs": [],
   "source": [
    "train_y = []\n",
    "for i in range( len( train_index ) ):\n",
    "    train_y.append( [ False ] * LABEL_CNT )\n",
    "    labels = df[ 'labels' ][ i ].rstrip()[1:-1].split(' ')\n",
    "    for label in labels : \n",
    "        l = int( label ) - 1 \n",
    "        train_y[-1][l] = True  \n",
    "    train_y[-1] = np.array( train_y[-1] )\n",
    "train_y = np.array( train_y )"
   ]
  },
  {
   "cell_type": "code",
   "execution_count": 61,
   "metadata": {},
   "outputs": [
    {
     "data": {
      "text/plain": [
       "array([False, False, False, False, False, False, False, False, False,\n",
       "       False, False, False, False, False, False, False, False, False,\n",
       "       False,  True, False,  True,  True, False,  True, False, False,\n",
       "       False, False,  True, False, False, False,  True,  True, False,\n",
       "       False, False, False, False, False, False,  True,  True, False,\n",
       "       False, False, False, False, False,  True,  True,  True, False,\n",
       "       False, False, False, False, False, False,  True,  True, False,\n",
       "       False, False, False, False, False, False, False, False, False,\n",
       "       False, False, False, False, False, False, False, False, False,\n",
       "       False, False, False, False,  True, False, False,  True, False,\n",
       "       False, False, False, False, False, False, False, False, False,\n",
       "       False])"
      ]
     },
     "execution_count": 61,
     "metadata": {},
     "output_type": "execute_result"
    }
   ],
   "source": [
    "train_y[:,3]"
   ]
  },
  {
   "cell_type": "code",
   "execution_count": 62,
   "metadata": {},
   "outputs": [],
   "source": [
    "train_x =  [LDA_vector[i] for i in train_index]"
   ]
  },
  {
   "cell_type": "code",
   "execution_count": 63,
   "metadata": {},
   "outputs": [],
   "source": [
    "from sklearn.svm import SVC\n",
    "from sklearn import metrics "
   ]
  },
  {
   "cell_type": "code",
   "execution_count": 64,
   "metadata": {},
   "outputs": [],
   "source": [
    "SVM_model = SVC( kernel='rbf', gamma='scale', C=1 )"
   ]
  },
  {
   "cell_type": "code",
   "execution_count": 65,
   "metadata": {},
   "outputs": [],
   "source": [
    "from sklearn.model_selection import cross_val_score"
   ]
  },
  {
   "cell_type": "code",
   "execution_count": null,
   "metadata": {},
   "outputs": [],
   "source": [
    "score = cross_val_score( SVM_model, train_x, train_y[:,6], cv=10, scoring='f1_macro' )\n",
    "print( score.mean() )"
   ]
  },
  {
   "cell_type": "code",
   "execution_count": 85,
   "metadata": {},
   "outputs": [
    {
     "data": {
      "text/html": [
       "<style>#sk-container-id-7 {color: black;background-color: white;}#sk-container-id-7 pre{padding: 0;}#sk-container-id-7 div.sk-toggleable {background-color: white;}#sk-container-id-7 label.sk-toggleable__label {cursor: pointer;display: block;width: 100%;margin-bottom: 0;padding: 0.3em;box-sizing: border-box;text-align: center;}#sk-container-id-7 label.sk-toggleable__label-arrow:before {content: \"▸\";float: left;margin-right: 0.25em;color: #696969;}#sk-container-id-7 label.sk-toggleable__label-arrow:hover:before {color: black;}#sk-container-id-7 div.sk-estimator:hover label.sk-toggleable__label-arrow:before {color: black;}#sk-container-id-7 div.sk-toggleable__content {max-height: 0;max-width: 0;overflow: hidden;text-align: left;background-color: #f0f8ff;}#sk-container-id-7 div.sk-toggleable__content pre {margin: 0.2em;color: black;border-radius: 0.25em;background-color: #f0f8ff;}#sk-container-id-7 input.sk-toggleable__control:checked~div.sk-toggleable__content {max-height: 200px;max-width: 100%;overflow: auto;}#sk-container-id-7 input.sk-toggleable__control:checked~label.sk-toggleable__label-arrow:before {content: \"▾\";}#sk-container-id-7 div.sk-estimator input.sk-toggleable__control:checked~label.sk-toggleable__label {background-color: #d4ebff;}#sk-container-id-7 div.sk-label input.sk-toggleable__control:checked~label.sk-toggleable__label {background-color: #d4ebff;}#sk-container-id-7 input.sk-hidden--visually {border: 0;clip: rect(1px 1px 1px 1px);clip: rect(1px, 1px, 1px, 1px);height: 1px;margin: -1px;overflow: hidden;padding: 0;position: absolute;width: 1px;}#sk-container-id-7 div.sk-estimator {font-family: monospace;background-color: #f0f8ff;border: 1px dotted black;border-radius: 0.25em;box-sizing: border-box;margin-bottom: 0.5em;}#sk-container-id-7 div.sk-estimator:hover {background-color: #d4ebff;}#sk-container-id-7 div.sk-parallel-item::after {content: \"\";width: 100%;border-bottom: 1px solid gray;flex-grow: 1;}#sk-container-id-7 div.sk-label:hover label.sk-toggleable__label {background-color: #d4ebff;}#sk-container-id-7 div.sk-serial::before {content: \"\";position: absolute;border-left: 1px solid gray;box-sizing: border-box;top: 0;bottom: 0;left: 50%;z-index: 0;}#sk-container-id-7 div.sk-serial {display: flex;flex-direction: column;align-items: center;background-color: white;padding-right: 0.2em;padding-left: 0.2em;position: relative;}#sk-container-id-7 div.sk-item {position: relative;z-index: 1;}#sk-container-id-7 div.sk-parallel {display: flex;align-items: stretch;justify-content: center;background-color: white;position: relative;}#sk-container-id-7 div.sk-item::before, #sk-container-id-7 div.sk-parallel-item::before {content: \"\";position: absolute;border-left: 1px solid gray;box-sizing: border-box;top: 0;bottom: 0;left: 50%;z-index: -1;}#sk-container-id-7 div.sk-parallel-item {display: flex;flex-direction: column;z-index: 1;position: relative;background-color: white;}#sk-container-id-7 div.sk-parallel-item:first-child::after {align-self: flex-end;width: 50%;}#sk-container-id-7 div.sk-parallel-item:last-child::after {align-self: flex-start;width: 50%;}#sk-container-id-7 div.sk-parallel-item:only-child::after {width: 0;}#sk-container-id-7 div.sk-dashed-wrapped {border: 1px dashed gray;margin: 0 0.4em 0.5em 0.4em;box-sizing: border-box;padding-bottom: 0.4em;background-color: white;}#sk-container-id-7 div.sk-label label {font-family: monospace;font-weight: bold;display: inline-block;line-height: 1.2em;}#sk-container-id-7 div.sk-label-container {text-align: center;}#sk-container-id-7 div.sk-container {/* jupyter's `normalize.less` sets `[hidden] { display: none; }` but bootstrap.min.css set `[hidden] { display: none !important; }` so we also need the `!important` here to be able to override the default hidden behavior on the sphinx rendered scikit-learn.org. See: https://github.com/scikit-learn/scikit-learn/issues/21755 */display: inline-block !important;position: relative;}#sk-container-id-7 div.sk-text-repr-fallback {display: none;}</style><div id=\"sk-container-id-7\" class=\"sk-top-container\"><div class=\"sk-text-repr-fallback\"><pre>SVC(C=1)</pre><b>In a Jupyter environment, please rerun this cell to show the HTML representation or trust the notebook. <br />On GitHub, the HTML representation is unable to render, please try loading this page with nbviewer.org.</b></div><div class=\"sk-container\" hidden><div class=\"sk-item\"><div class=\"sk-estimator sk-toggleable\"><input class=\"sk-toggleable__control sk-hidden--visually\" id=\"sk-estimator-id-7\" type=\"checkbox\" checked><label for=\"sk-estimator-id-7\" class=\"sk-toggleable__label sk-toggleable__label-arrow\">SVC</label><div class=\"sk-toggleable__content\"><pre>SVC(C=1)</pre></div></div></div></div></div>"
      ],
      "text/plain": [
       "SVC(C=1)"
      ]
     },
     "execution_count": 85,
     "metadata": {},
     "output_type": "execute_result"
    }
   ],
   "source": [
    "SVM_model.fit( train_x, train_y[:,0] )"
   ]
  },
  {
   "cell_type": "code",
   "execution_count": 86,
   "metadata": {},
   "outputs": [],
   "source": [
    "predicted_results = SVM_model.predict( train_x )"
   ]
  },
  {
   "cell_type": "code",
   "execution_count": 88,
   "metadata": {},
   "outputs": [],
   "source": [
    "expected_results = train_y[:,0] "
   ]
  },
  {
   "cell_type": "code",
   "execution_count": 89,
   "metadata": {},
   "outputs": [
    {
     "name": "stdout",
     "output_type": "stream",
     "text": [
      "              precision    recall  f1-score   support\n",
      "\n",
      "       False       0.94      1.00      0.97        51\n",
      "        True       1.00      0.94      0.97        49\n",
      "\n",
      "    accuracy                           0.97       100\n",
      "   macro avg       0.97      0.97      0.97       100\n",
      "weighted avg       0.97      0.97      0.97       100\n",
      "\n"
     ]
    }
   ],
   "source": [
    "print( metrics.classification_report( expected_results, predicted_results ) )"
   ]
  },
  {
   "cell_type": "code",
   "execution_count": 94,
   "metadata": {},
   "outputs": [],
   "source": [
    "predicted_results = list( SVM_model.predict( LDA_vector ) )"
   ]
  },
  {
   "cell_type": "code",
   "execution_count": 96,
   "metadata": {},
   "outputs": [],
   "source": [
    "indices = [i for i, x in enumerate(predicted_results) if x == True]"
   ]
  },
  {
   "cell_type": "code",
   "execution_count": 97,
   "metadata": {},
   "outputs": [
    {
     "data": {
      "text/plain": [
       "[3,\n",
       " 5,\n",
       " 9,\n",
       " 12,\n",
       " 13,\n",
       " 14,\n",
       " 16,\n",
       " 20,\n",
       " 22,\n",
       " 26,\n",
       " 28,\n",
       " 33,\n",
       " 34,\n",
       " 36,\n",
       " 38,\n",
       " 39,\n",
       " 43,\n",
       " 45,\n",
       " 50,\n",
       " 54,\n",
       " 57,\n",
       " 59,\n",
       " 60,\n",
       " 61,\n",
       " 63,\n",
       " 64,\n",
       " 67,\n",
       " 69,\n",
       " 74,\n",
       " 75,\n",
       " 77,\n",
       " 78,\n",
       " 80,\n",
       " 82,\n",
       " 87,\n",
       " 92,\n",
       " 93,\n",
       " 100,\n",
       " 102,\n",
       " 104,\n",
       " 105,\n",
       " 108,\n",
       " 109,\n",
       " 110,\n",
       " 112,\n",
       " 113,\n",
       " 118,\n",
       " 121,\n",
       " 124,\n",
       " 125,\n",
       " 126,\n",
       " 130,\n",
       " 131,\n",
       " 137,\n",
       " 138,\n",
       " 145,\n",
       " 146,\n",
       " 147,\n",
       " 151,\n",
       " 152,\n",
       " 154,\n",
       " 155,\n",
       " 163,\n",
       " 170,\n",
       " 171,\n",
       " 174,\n",
       " 175,\n",
       " 181,\n",
       " 186,\n",
       " 187,\n",
       " 188,\n",
       " 189,\n",
       " 191,\n",
       " 193,\n",
       " 194,\n",
       " 195,\n",
       " 198,\n",
       " 199,\n",
       " 200,\n",
       " 211,\n",
       " 213,\n",
       " 218,\n",
       " 233,\n",
       " 236,\n",
       " 237,\n",
       " 245,\n",
       " 246,\n",
       " 247,\n",
       " 248,\n",
       " 249,\n",
       " 250,\n",
       " 251,\n",
       " 252,\n",
       " 254,\n",
       " 258,\n",
       " 263,\n",
       " 266,\n",
       " 271,\n",
       " 273,\n",
       " 274,\n",
       " 275,\n",
       " 276,\n",
       " 278,\n",
       " 285,\n",
       " 287,\n",
       " 288,\n",
       " 291,\n",
       " 298,\n",
       " 300,\n",
       " 303,\n",
       " 304,\n",
       " 306,\n",
       " 312,\n",
       " 314,\n",
       " 315,\n",
       " 317,\n",
       " 318,\n",
       " 319,\n",
       " 324,\n",
       " 326,\n",
       " 328,\n",
       " 331,\n",
       " 332,\n",
       " 334,\n",
       " 335,\n",
       " 336,\n",
       " 338,\n",
       " 343,\n",
       " 345,\n",
       " 352,\n",
       " 354,\n",
       " 356,\n",
       " 359,\n",
       " 360,\n",
       " 363,\n",
       " 367,\n",
       " 372,\n",
       " 373,\n",
       " 374,\n",
       " 375,\n",
       " 378,\n",
       " 379,\n",
       " 381,\n",
       " 382,\n",
       " 383,\n",
       " 384,\n",
       " 386,\n",
       " 387,\n",
       " 388,\n",
       " 389,\n",
       " 391,\n",
       " 393]"
      ]
     },
     "execution_count": 97,
     "metadata": {},
     "output_type": "execute_result"
    }
   ],
   "source": [
    "indices"
   ]
  },
  {
   "cell_type": "code",
   "execution_count": null,
   "metadata": {},
   "outputs": [],
   "source": []
  }
 ],
 "metadata": {
  "kernelspec": {
   "display_name": "Python 3",
   "language": "python",
   "name": "python3"
  },
  "language_info": {
   "codemirror_mode": {
    "name": "ipython",
    "version": 3
   },
   "file_extension": ".py",
   "mimetype": "text/x-python",
   "name": "python",
   "nbconvert_exporter": "python",
   "pygments_lexer": "ipython3",
   "version": "3.10.2"
  },
  "orig_nbformat": 4,
  "vscode": {
   "interpreter": {
    "hash": "356998c43310144b96a2843b6a00592392af50ee3be89b7f2bab29543afc8c0d"
   }
  }
 },
 "nbformat": 4,
 "nbformat_minor": 2
}
