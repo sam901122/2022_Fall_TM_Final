{
 "cells": [
  {
   "cell_type": "code",
   "execution_count": 1,
   "metadata": {},
   "outputs": [],
   "source": [
    "import selenium"
   ]
  },
  {
   "cell_type": "code",
   "execution_count": 2,
   "metadata": {},
   "outputs": [],
   "source": [
    "from selenium import webdriver\n",
    "\n",
    "driver = webdriver.Edge()\n",
    "driver.get('https://www.baidu.com')"
   ]
  },
  {
   "cell_type": "code",
   "execution_count": 3,
   "metadata": {},
   "outputs": [
    {
     "name": "stderr",
     "output_type": "stream",
     "text": [
      "C:\\Users\\PuSung\\AppData\\Local\\Temp\\ipykernel_5960\\1768817580.py:9: DeprecationWarning: Selenium Tools for Microsoft Edge is deprecated. Please upgrade to Selenium 4 which has built-in support for Microsoft Edge (Chromium): https://docs.microsoft.com/en-us/microsoft-edge/webdriver-chromium/#upgrading-from-selenium-3\n",
      "  driver = Edge( options=edge_options )\n",
      "c:\\Users\\PuSung\\AppData\\Local\\Programs\\Python\\Python310\\lib\\site-packages\\msedge\\selenium_tools\\webdriver.py:73: SyntaxWarning: \"is\" with a literal. Did you mean \"==\"?\n",
      "  if executable_path is '':\n",
      "c:\\Users\\PuSung\\AppData\\Local\\Programs\\Python\\Python310\\lib\\site-packages\\msedge\\selenium_tools\\webdriver.py:73: SyntaxWarning: \"is\" with a literal. Did you mean \"==\"?\n",
      "  if executable_path is '':\n"
     ]
    }
   ],
   "source": [
    "from selenium import webdriver\n",
    "from msedge.selenium_tools import EdgeOptions\n",
    "from msedge.selenium_tools import Edge\n",
    "\n",
    "edge_options = EdgeOptions()\n",
    "edge_options.use_chromium = True\n",
    "# 设置无界面模式，也可以添加其它设置\n",
    "edge_options.add_argument( 'headless' )\n",
    "driver = Edge( options=edge_options )\n",
    "r = driver.get( 'https://www.baidu.com' )\n",
    "print( driver.title )\n",
    "driver.quit()"
   ]
  },
  {
   "cell_type": "code",
   "execution_count": null,
   "metadata": {},
   "outputs": [],
   "source": []
  }
 ],
 "metadata": {
  "kernelspec": {
   "display_name": "Python 3",
   "language": "python",
   "name": "python3"
  },
  "language_info": {
   "codemirror_mode": {
    "name": "ipython",
    "version": 3
   },
   "file_extension": ".py",
   "mimetype": "text/x-python",
   "name": "python",
   "nbconvert_exporter": "python",
   "pygments_lexer": "ipython3",
   "version": "3.10.2"
  },
  "orig_nbformat": 4,
  "vscode": {
   "interpreter": {
    "hash": "356998c43310144b96a2843b6a00592392af50ee3be89b7f2bab29543afc8c0d"
   }
  }
 },
 "nbformat": 4,
 "nbformat_minor": 2
}
