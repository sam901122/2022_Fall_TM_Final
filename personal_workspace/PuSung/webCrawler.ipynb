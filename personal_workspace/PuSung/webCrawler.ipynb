{
 "cells": [
  {
   "cell_type": "code",
   "execution_count": 2,
   "metadata": {},
   "outputs": [],
   "source": [
    "from selenium import webdriver\n",
    "from selenium.webdriver.common.action_chains import ActionChains\n",
    "from selenium.webdriver.common.keys import Keys\n",
    "from selenium.webdriver.support.ui import Select\n",
    "import time "
   ]
  },
  {
   "cell_type": "code",
   "execution_count": 28,
   "metadata": {},
   "outputs": [],
   "source": [
    "driver = webdriver.Edge( executable_path='msedgedriver.exe' )\n",
    "driver.get( 'https://search.ltn.com.tw/list?keyword=%E6%96%B0%E7%AB%B9%E5%B8%82%E9%95%B7' )\n",
    "driver.find_element_by_css_selector( '.search_cond > a').click()\n",
    "time.sleep( 0.5 )\n",
    "\n",
    "driver.find_element_by_id( 'search_btn' ).click()\n",
    "driver.find_element_by_id( 'start_time_datepicker' ).click()\n",
    "Select(driver.find_element_by_class_name( 'ui-datepicker-month' )).select_by_value('5')\n",
    "driver.find_element_by_css_selector( 'table :nth-child(2) tr:nth-child(1) td:nth-child(4)' ).click()\n",
    "\n",
    "driver.find_element_by_id( 'end_time_datepicker' ).click()\n",
    "Select(driver.find_element_by_class_name( 'ui-datepicker-month' )).select_by_value('10')\n",
    "driver.find_element_by_css_selector( 'table :nth-child(2) tr:nth-child(4) td:nth-child(6)' ).click()\n",
    "driver.find_element_by_id( 'self_option_btn' ).click()"
   ]
  },
  {
   "cell_type": "code",
   "execution_count": 37,
   "metadata": {},
   "outputs": [],
   "source": [
    "driver = webdriver.Edge( executable_path='msedgedriver.exe' )\n",
    "driver.get( 'https://search.ltn.com.tw/list?keyword=%E6%96%B0%E7%AB%B9%E5%B8%82%E9%95%B7&start_time=20220601&end_time=20221125&sort=date&type=all&page=24' )"
   ]
  },
  {
   "cell_type": "code",
   "execution_count": 38,
   "metadata": {},
   "outputs": [
    {
     "ename": "KeyboardInterrupt",
     "evalue": "",
     "output_type": "error",
     "traceback": [
      "\u001b[1;31m---------------------------------------------------------------------------\u001b[0m",
      "\u001b[1;31mKeyboardInterrupt\u001b[0m                         Traceback (most recent call last)",
      "\u001b[1;32mc:\\PuSung\\University\\111_Junior\\111-1 Academic\\Text Mining\\Final\\2022_Fall_TM_Final\\personal_workspace\\PuSung\\webCrawler.ipynb Cell 4\u001b[0m in \u001b[0;36m<cell line: 2>\u001b[1;34m()\u001b[0m\n\u001b[0;32m     <a href='vscode-notebook-cell:/c%3A/PuSung/University/111_Junior/111-1%20Academic/Text%20Mining/Final/2022_Fall_TM_Final/personal_workspace/PuSung/webCrawler.ipynb#W1sZmlsZQ%3D%3D?line=21'>22</a>\u001b[0m     time\u001b[39m.\u001b[39msleep( \u001b[39m0.5\u001b[39m )\n\u001b[0;32m     <a href='vscode-notebook-cell:/c%3A/PuSung/University/111_Junior/111-1%20Academic/Text%20Mining/Final/2022_Fall_TM_Final/personal_workspace/PuSung/webCrawler.ipynb#W1sZmlsZQ%3D%3D?line=23'>24</a>\u001b[0m driver\u001b[39m.\u001b[39mfind_element_by_class_name( \u001b[39m'\u001b[39m\u001b[39mp_next\u001b[39m\u001b[39m'\u001b[39m )\u001b[39m.\u001b[39mclick()\n\u001b[1;32m---> <a href='vscode-notebook-cell:/c%3A/PuSung/University/111_Junior/111-1%20Academic/Text%20Mining/Final/2022_Fall_TM_Final/personal_workspace/PuSung/webCrawler.ipynb#W1sZmlsZQ%3D%3D?line=24'>25</a>\u001b[0m time\u001b[39m.\u001b[39;49msleep( \u001b[39m5\u001b[39;49m )\n",
      "\u001b[1;31mKeyboardInterrupt\u001b[0m: "
     ]
    }
   ],
   "source": [
    "cnt = 460\n",
    "while True:\n",
    "    for elm in driver.find_elements_by_class_name( 'http' ):\n",
    "        url = elm.text\n",
    "        driver.execute_script( f'window.open(\"{elm.text}\");' )\n",
    "        driver.switch_to.window( driver.window_handles[ 1 ] )\n",
    "\n",
    "        title = ''\n",
    "        try : \n",
    "            title = driver.find_element_by_css_selector( \".whitecon > h1\" ).text\n",
    "        except Exception as e: \n",
    "            title = driver.find_element_by_class_name( 'article' ).text\n",
    "        body = driver.find_element_by_class_name( 'text' ).text.replace(\n",
    "            '\\n不用抽 不用搶 現在用APP看新聞 保證天天中獎\\u3000 點我下載APP\\u3000 按我看活動辦法', '' )\n",
    "        cnt += 1\n",
    "        with open( f'../../src_txt/free_{cnt}.txt', 'w', encoding='utf-8' ) as f:\n",
    "            f.write( title + '\\n' )\n",
    "            f.write( url + '\\n' )\n",
    "            f.write( body )\n",
    "        driver.close()\n",
    "        driver.switch_to.window( driver.window_handles[ 0 ] )\n",
    "        time.sleep( 0.5 )\n",
    "\n",
    "    driver.find_element_by_class_name( 'p_next' ).click()\n",
    "    time.sleep( 5 )"
   ]
  }
 ],
 "metadata": {
  "kernelspec": {
   "display_name": "Python 3",
   "language": "python",
   "name": "python3"
  },
  "language_info": {
   "codemirror_mode": {
    "name": "ipython",
    "version": 3
   },
   "file_extension": ".py",
   "mimetype": "text/x-python",
   "name": "python",
   "nbconvert_exporter": "python",
   "pygments_lexer": "ipython3",
   "version": "3.10.2"
  },
  "orig_nbformat": 4,
  "vscode": {
   "interpreter": {
    "hash": "356998c43310144b96a2843b6a00592392af50ee3be89b7f2bab29543afc8c0d"
   }
  }
 },
 "nbformat": 4,
 "nbformat_minor": 2
}
