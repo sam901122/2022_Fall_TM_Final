{
 "cells": [
  {
   "cell_type": "code",
   "execution_count": 4,
   "metadata": {},
   "outputs": [
    {
     "name": "stdout",
     "output_type": "stream",
     "text": [
      "Collecting jieba\n",
      "  Downloading jieba-0.42.1.tar.gz (19.2 MB)\n",
      "\u001b[K     |████████████████████████████████| 19.2 MB 2.3 MB/s eta 0:00:01\n",
      "\u001b[?25hUsing legacy 'setup.py install' for jieba, since package 'wheel' is not installed.\n",
      "Installing collected packages: jieba\n",
      "    Running setup.py install for jieba ... \u001b[?25ldone\n",
      "\u001b[?25hSuccessfully installed jieba-0.42.1\n",
      "\u001b[33mWARNING: You are using pip version 21.2.3; however, version 22.3.1 is available.\n",
      "You should consider upgrading via the '/usr/local/bin/python3 -m pip install --upgrade pip' command.\u001b[0m\n",
      "Note: you may need to restart the kernel to use updated packages.\n"
     ]
    }
   ],
   "source": [
    "%pip install jieba"
   ]
  },
  {
   "cell_type": "code",
   "execution_count": 196,
   "metadata": {},
   "outputs": [],
   "source": [
    "import jieba"
   ]
  },
  {
   "cell_type": "code",
   "execution_count": 268,
   "metadata": {},
   "outputs": [],
   "source": [
    "jieba.load_userdict( './politic_dict.txt' )"
   ]
  },
  {
   "cell_type": "code",
   "execution_count": 269,
   "metadata": {},
   "outputs": [
    {
     "name": "stdout",
     "output_type": "stream",
     "text": [
      "['數位', '發展', '部', '七月', '掛牌', '上路', '，', '第二', '辦公室', '位', '在', '台北市', '「', '地后', '」', '新', '光大', '樓', '，', '租金', '近', '七千', '萬惹議', '。', '針對', '中央', '部會', '不少', '「', '無殼', '蝸牛', '」', '，', '行政院', '官員', '表示', '，', '部會', '辦公處', '所會', '隨組改', '與', '部會', '增減', '調整', '，', '整體', '規畫', '需視', '部會', '需求', '與', '空間', '評估', '，', '但', '確實', '不', '容易', '；', '目前', '財政部', '國產署', '規畫', '在', '華光', '特區', '設置', '新', '辦公廳', '舍', '，', '算是', '較', '長期', '的', '用地', '規畫', '。', '國產署', '規畫', '，', '數發部', '永久', '辦公廳', '舍將', '坐落', '在', '華光', '特區', '，', '特區', '內', '有', '兩塊', '土地', '將作', '為', '政府', '機關', '的', '辦公廳', '舍', '，', '其中', '特定', '專用區', '二由數', '發部', '、', 'Ｎ', 'Ｃ', 'Ｃ', '和', '工程', '會', '使用', '，', '特三則', '會給', '經濟部', '使用', '，', '經濟部', '本部', '與', '散布', '在', '市區', '的', '國貿局', '、', '工業局', '等', '局處', '也', '都', '會', '搬', '到', '華光', '特區', '；', '至於', '廣州', '街', '的', '現址', '，', '未來', '會給', '沒辦', '公廳', '舍', '的', '部會', '使用', '。', '民眾黨', '立委', '高虹安', '表示', '，', '數發部', '在', '決定', '簽約', '取得', '辦公空間', '前', '，', '是不是', '應該', '先', '把', '準部長', '端', '出來', '，', '好好', '對國人', '說', '明願景', '，', '若', '行政院', '現在', '決定', '的', '空間', '，', '不', '符合', '新部長', '的', '需要', '，', '豈', '不是', '真的', '浪費', '了', '？', '時代力量', '立委', '陳', '椒', '華說', '，', '如果', '閒置', '空間夠', '用', '，', '實在', '不應', '該', '再', '另外', '招標', '租用', '。']\n"
     ]
    }
   ],
   "source": [
    "file = open( '../../src_txt/310.txt', encoding=\"utf8\" )\n",
    "doc = file.readlines()[ 2: ]\n",
    "file.close\n",
    "\n",
    "doc = ''.join( doc ).replace( '\\n', '' )\n",
    "doc = jieba.lcut( doc )\n",
    "print( doc )"
   ]
  },
  {
   "cell_type": "code",
   "execution_count": null,
   "metadata": {},
   "outputs": [],
   "source": []
  },
  {
   "cell_type": "code",
   "execution_count": null,
   "metadata": {},
   "outputs": [],
   "source": []
  }
 ],
 "metadata": {
  "kernelspec": {
   "display_name": "Python 3",
   "language": "python",
   "name": "python3"
  },
  "language_info": {
   "codemirror_mode": {
    "name": "ipython",
    "version": 3
   },
   "file_extension": ".py",
   "mimetype": "text/x-python",
   "name": "python",
   "nbconvert_exporter": "python",
   "pygments_lexer": "ipython3",
   "version": "3.9.7"
  },
  "orig_nbformat": 4,
  "vscode": {
   "interpreter": {
    "hash": "aee8b7b246df8f9039afb4144a1f6fd8d2ca17a180786b69acc140d282b71a49"
   }
  }
 },
 "nbformat": 4,
 "nbformat_minor": 2
}
