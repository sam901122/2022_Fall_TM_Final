{
 "cells": [
  {
   "cell_type": "code",
   "execution_count": null,
   "metadata": {},
   "outputs": [],
   "source": [
    "import sys \n",
    "import os \n",
    "functionPath = os.path.join( '../../', 'text_mining')\n",
    "sys.path.append( functionPath )\n",
    "\n",
    "import get_vectors"
   ]
  },
  {
   "cell_type": "code",
   "execution_count": null,
   "metadata": {},
   "outputs": [],
   "source": [
    "dict_path = '../../text_mining/politic_dict.txt'\n",
    "stopword_path = '../../text_mining/stop_word.txt'\n",
    "srctxt_path = '../../src_txt'"
   ]
  },
  {
   "cell_type": "code",
   "execution_count": 3,
   "metadata": {},
   "outputs": [
    {
     "name": "stderr",
     "output_type": "stream",
     "text": [
      "Building prefix dict from the default dictionary ...\n",
      "Loading model from cache C:\\Users\\h5110\\AppData\\Local\\Temp\\jieba.cache\n",
      "Loading model cost 1.017 seconds.\n",
      "Prefix dict has been built successfully.\n"
     ]
    }
   ],
   "source": [
    "tokenized_docs = get_vectors.get_tokenized_docs(dict_path, stopword_path, srctxt_path)"
   ]
  },
  {
   "cell_type": "code",
   "execution_count": 4,
   "metadata": {},
   "outputs": [],
   "source": [
    "TFIDF_vectors, TFIDF_vecotrizer = get_vectors.get_tf_idf(dict_path, stopword_path, srctxt_path)"
   ]
  },
  {
   "cell_type": "code",
   "execution_count": 5,
   "metadata": {},
   "outputs": [],
   "source": [
    "from sklearn.decomposition import TruncatedSVD"
   ]
  },
  {
   "cell_type": "code",
   "execution_count": 6,
   "metadata": {},
   "outputs": [],
   "source": [
    "svd_model = TruncatedSVD(n_components=10)\n",
    "SVD_vectors = svd_model.fit_transform(TFIDF_vectors)"
   ]
  },
  {
   "cell_type": "code",
   "execution_count": 7,
   "metadata": {},
   "outputs": [],
   "source": [
    "def print_topics(model, vectorizer, n_top_words):\n",
    "    words = vectorizer.get_feature_names()\n",
    "    for topic_index, topic in enumerate(abs(model.components_)):\n",
    "        print(\"\\nTopic #%d:\" % topic_index)\n",
    "        print(\" \".join(words[i] for i in topic.argsort()[:-n_top_words - 1:-1]))"
   ]
  },
  {
   "cell_type": "code",
   "execution_count": 8,
   "metadata": {},
   "outputs": [
    {
     "name": "stdout",
     "output_type": "stream",
     "text": [
      "\n",
      "Topic #0:\n",
      "的 是 高虹安 長 民進黨 新竹市 新竹 在 也 沈慧虹\n",
      "\n",
      "Topic #1:\n",
      "助理 交通 市府 新竹 香山 資策 推動 改善 政見 棒球\n",
      "\n",
      "Topic #2:\n",
      "助理 市府 棒球 資策 珊 支持 改善 藍營 桃園 議長\n",
      "\n",
      "Topic #3:\n",
      "助理 棒球 高虹安 桃園 林耕仁 林智堅 交通 市府 珊 改善\n",
      "\n",
      "Topic #4:\n",
      "棒球 資策 市府 改善 助理 香山 場 論文 交通 抄襲\n",
      "\n",
      "Topic #5:\n",
      "香山 珊 二成 楊 資策 文科 支持 黃 新竹 度\n",
      "\n",
      "Topic #6:\n",
      "香山 珊 楊 文科 交通 二成 新竹 黃 柯文 大\n",
      "\n",
      "Topic #7:\n",
      "資策 會 二成 楊 文科 香山 助理 新竹 交通 卓政宏\n",
      "\n",
      "Topic #8:\n",
      "資策 香山 珊 會 二成 林智堅 黃 度 民調 支持\n",
      "\n",
      "Topic #9:\n",
      "二成 余邦彥 桃園 許修 睿 議長 支持 助理 總統 提名\n"
     ]
    },
    {
     "name": "stderr",
     "output_type": "stream",
     "text": [
      "D:\\New folder\\lib\\site-packages\\sklearn\\utils\\deprecation.py:87: FutureWarning: Function get_feature_names is deprecated; get_feature_names is deprecated in 1.0 and will be removed in 1.2. Please use get_feature_names_out instead.\n",
      "  warnings.warn(msg, category=FutureWarning)\n"
     ]
    }
   ],
   "source": [
    "print_topics(svd_model, TFIDF_vecotrizer, 10)"
   ]
  }
 ],
 "metadata": {
  "kernelspec": {
   "display_name": "Python 3",
   "language": "python",
   "name": "python3"
  },
  "language_info": {
   "codemirror_mode": {
    "name": "ipython",
    "version": 3
   },
   "file_extension": ".py",
   "mimetype": "text/x-python",
   "name": "python",
   "nbconvert_exporter": "python",
   "pygments_lexer": "ipython3",
   "version": "3.8.5"
  }
 },
 "nbformat": 4,
 "nbformat_minor": 4
}
