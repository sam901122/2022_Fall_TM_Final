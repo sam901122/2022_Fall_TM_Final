{
 "cells": [
  {
   "cell_type": "code",
   "execution_count": 4,
   "metadata": {},
   "outputs": [],
   "source": [
    "import gensim"
   ]
  },
  {
   "cell_type": "code",
   "execution_count": 5,
   "metadata": {},
   "outputs": [],
   "source": [
    "from gensim.models.word2vec import Word2Vec"
   ]
  },
  {
   "cell_type": "code",
   "execution_count": 9,
   "metadata": {},
   "outputs": [],
   "source": [
    "import sys \n",
    "import os \n",
    "functionPath = os.path.join( '../../', 'text_mining')\n",
    "sys.path.append( functionPath )\n",
    "\n",
    "import get_vectors"
   ]
  },
  {
   "cell_type": "code",
   "execution_count": 18,
   "metadata": {},
   "outputs": [
    {
     "ename": "TypeError",
     "evalue": "get_tokenized_docs() takes 0 positional arguments but 3 were given",
     "output_type": "error",
     "traceback": [
      "\u001b[1;31m---------------------------------------------------------------------------\u001b[0m",
      "\u001b[1;31mTypeError\u001b[0m                                 Traceback (most recent call last)",
      "\u001b[1;32m<ipython-input-18-40887e4aaeb9>\u001b[0m in \u001b[0;36m<module>\u001b[1;34m\u001b[0m\n\u001b[1;32m----> 1\u001b[1;33m \u001b[0mget_vectors\u001b[0m\u001b[1;33m.\u001b[0m\u001b[0mget_tokenized_docs\u001b[0m\u001b[1;33m(\u001b[0m\u001b[1;34m'../../text_mining/politic_dict.txt'\u001b[0m\u001b[1;33m,\u001b[0m \u001b[1;34m'../../text_mining/politic_dict.txt'\u001b[0m\u001b[1;33m,\u001b[0m \u001b[1;34m'../../src_text'\u001b[0m\u001b[1;33m)\u001b[0m\u001b[1;33m\u001b[0m\u001b[1;33m\u001b[0m\u001b[0m\n\u001b[0m",
      "\u001b[1;31mTypeError\u001b[0m: get_tokenized_docs() takes 0 positional arguments but 3 were given"
     ]
    }
   ],
   "source": [
    "get_vectors.get_tokenized_docs('../../text_mining/politic_dict.txt', '../../text_mining/politic_dict.txt', '../../src_text')"
   ]
  },
  {
   "cell_type": "code",
   "execution_count": null,
   "metadata": {},
   "outputs": [],
   "source": []
  }
 ],
 "metadata": {
  "kernelspec": {
   "display_name": "Python 3",
   "language": "python",
   "name": "python3"
  },
  "language_info": {
   "name": ""
  }
 },
 "nbformat": 4,
 "nbformat_minor": 4
}
