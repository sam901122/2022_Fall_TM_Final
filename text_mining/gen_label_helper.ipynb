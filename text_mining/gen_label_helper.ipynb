{
 "cells": [
  {
   "cell_type": "code",
   "execution_count": 2,
   "metadata": {},
   "outputs": [],
   "source": [
    "import random\n",
    "import os "
   ]
  },
  {
   "cell_type": "code",
   "execution_count": 3,
   "metadata": {},
   "outputs": [],
   "source": [
    "min = 1 \n",
    "max = len( os.listdir( '../src_txt/' ) )"
   ]
  },
  {
   "cell_type": "code",
   "execution_count": 5,
   "metadata": {},
   "outputs": [],
   "source": [
    "chosen = []\n",
    "\n",
    "while len( chosen ) < 100 : \n",
    "    ret = random.randint( min, max ) \n",
    "    if ret not in chosen : \n",
    "        chosen.append( ret )\n",
    "\n",
    "chosen.sort()"
   ]
  },
  {
   "cell_type": "code",
   "execution_count": 17,
   "metadata": {},
   "outputs": [],
   "source": [
    "label_person = [ 'Liang', 'PuSung', 'Alistone', 'Rain', 'John' ]"
   ]
  },
  {
   "cell_type": "code",
   "execution_count": 23,
   "metadata": {},
   "outputs": [
    {
     "ename": "FileExistsError",
     "evalue": "labels.csv already exist",
     "output_type": "error",
     "traceback": [
      "\u001b[1;31m---------------------------------------------------------------------------\u001b[0m",
      "\u001b[1;31mFileExistsError\u001b[0m                           Traceback (most recent call last)",
      "\u001b[1;32mc:\\PuSung\\University\\111_Junior\\111-1 Academic\\Text Mining\\Final\\2022_Fall_TM_Final\\text_mining\\gen_label_helper.ipynb Cell 5\u001b[0m in \u001b[0;36m<cell line: 1>\u001b[1;34m()\u001b[0m\n\u001b[0;32m      <a href='vscode-notebook-cell:/c%3A/PuSung/University/111_Junior/111-1%20Academic/Text%20Mining/Final/2022_Fall_TM_Final/text_mining/gen_label_helper.ipynb#W3sZmlsZQ%3D%3D?line=0'>1</a>\u001b[0m \u001b[39mif\u001b[39;00m os\u001b[39m.\u001b[39mpath\u001b[39m.\u001b[39mexists( \u001b[39m'\u001b[39m\u001b[39m./labels.csv\u001b[39m\u001b[39m'\u001b[39m ):\n\u001b[1;32m----> <a href='vscode-notebook-cell:/c%3A/PuSung/University/111_Junior/111-1%20Academic/Text%20Mining/Final/2022_Fall_TM_Final/text_mining/gen_label_helper.ipynb#W3sZmlsZQ%3D%3D?line=1'>2</a>\u001b[0m     \u001b[39mraise\u001b[39;00m \u001b[39mFileExistsError\u001b[39;00m( \u001b[39m'\u001b[39m\u001b[39mlabels.csv already exist\u001b[39m\u001b[39m'\u001b[39m )\n\u001b[0;32m      <a href='vscode-notebook-cell:/c%3A/PuSung/University/111_Junior/111-1%20Academic/Text%20Mining/Final/2022_Fall_TM_Final/text_mining/gen_label_helper.ipynb#W3sZmlsZQ%3D%3D?line=2'>3</a>\u001b[0m \u001b[39melse\u001b[39;00m:\n\u001b[0;32m      <a href='vscode-notebook-cell:/c%3A/PuSung/University/111_Junior/111-1%20Academic/Text%20Mining/Final/2022_Fall_TM_Final/text_mining/gen_label_helper.ipynb#W3sZmlsZQ%3D%3D?line=3'>4</a>\u001b[0m     \u001b[39mwith\u001b[39;00m \u001b[39mopen\u001b[39m( \u001b[39m'\u001b[39m\u001b[39m./labels.csv\u001b[39m\u001b[39m'\u001b[39m, \u001b[39m'\u001b[39m\u001b[39mw\u001b[39m\u001b[39m'\u001b[39m ) \u001b[39mas\u001b[39;00m f:\n",
      "\u001b[1;31mFileExistsError\u001b[0m: labels.csv already exist"
     ]
    }
   ],
   "source": [
    "if os.path.exists( './labels.csv' ):\n",
    "    raise FileExistsError( 'labels.csv already exist' )\n",
    "else:\n",
    "    with open( './labels.csv', 'w' ) as f:\n",
    "        f.write( 'file, labels\\n' )\n",
    "        cnt = 0\n",
    "        for num in chosen:\n",
    "            if cnt % 20 == 0:\n",
    "                f.write( '// ' + label_person[ int( cnt / 20 ) ] + '\\n' )\n",
    "            cnt += 1\n",
    "            f.write( f'{num}, \\n' )"
   ]
  },
  {
   "cell_type": "code",
   "execution_count": null,
   "metadata": {},
   "outputs": [],
   "source": []
  }
 ],
 "metadata": {
  "kernelspec": {
   "display_name": "Python 3",
   "language": "python",
   "name": "python3"
  },
  "language_info": {
   "codemirror_mode": {
    "name": "ipython",
    "version": 3
   },
   "file_extension": ".py",
   "mimetype": "text/x-python",
   "name": "python",
   "nbconvert_exporter": "python",
   "pygments_lexer": "ipython3",
   "version": "3.10.2"
  },
  "orig_nbformat": 4,
  "vscode": {
   "interpreter": {
    "hash": "356998c43310144b96a2843b6a00592392af50ee3be89b7f2bab29543afc8c0d"
   }
  }
 },
 "nbformat": 4,
 "nbformat_minor": 2
}
