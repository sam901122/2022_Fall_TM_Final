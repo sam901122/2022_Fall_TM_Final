{
 "cells": [
  {
   "cell_type": "code",
   "execution_count": 1,
   "metadata": {},
   "outputs": [],
   "source": [
    "# constant \n",
    "#　阿亮動這邊就好\n",
    "\n",
    "CHOSEN_CNT = 100 # 要選幾篇\n",
    "OUTPUT_FILE_NAME = 'new_labels.csv' # 新的檔名，如果已經存在的話就不能生成，怕洗掉我們標好的\n",
    "LABEL_PERSON = [ 'Liang', 'PuSung', 'Alistone', 'Rain', 'Julie' ] # 要標的人"
   ]
  },
  {
   "cell_type": "code",
   "execution_count": 2,
   "metadata": {},
   "outputs": [],
   "source": [
    "import random\n",
    "import os "
   ]
  },
  {
   "cell_type": "code",
   "execution_count": 3,
   "metadata": {},
   "outputs": [],
   "source": [
    "min = 1 \n",
    "max = len( os.listdir( '../src_txt/' ) ) - 3 "
   ]
  },
  {
   "cell_type": "code",
   "execution_count": 4,
   "metadata": {},
   "outputs": [],
   "source": [
    "chosen = []\n",
    "\n",
    "while len( chosen ) < CHOSEN_CNT : \n",
    "    ret = random.randint( min, max ) \n",
    "    if ret not in chosen : \n",
    "        chosen.append( ret )\n",
    "\n",
    "chosen.sort()"
   ]
  },
  {
   "cell_type": "code",
   "execution_count": 5,
   "metadata": {},
   "outputs": [],
   "source": [
    "if os.path.exists( './' + OUTPUT_FILE_NAME ):\n",
    "    raise FileExistsError( f'{OUTPUT_FILE_NAME} already exist' )\n",
    "else:\n",
    "    with open( './' + OUTPUT_FILE_NAME, 'w' ) as f:\n",
    "        f.write( 'file, labels\\n' )\n",
    "        cnt = 0\n",
    "        for num in chosen:\n",
    "            if cnt % int( CHOSEN_CNT / len( LABEL_PERSON ) ) == 0:\n",
    "                f.write( '// ' + LABEL_PERSON[ int( cnt / int( CHOSEN_CNT / len( LABEL_PERSON ) ) ) ] + '\\n' )\n",
    "            cnt += 1\n",
    "            f.write( f'{num}, \\n' )"
   ]
  },
  {
   "cell_type": "code",
   "execution_count": null,
   "metadata": {},
   "outputs": [],
   "source": []
  }
 ],
 "metadata": {
  "kernelspec": {
   "display_name": "Python 3",
   "language": "python",
   "name": "python3"
  },
  "language_info": {
   "codemirror_mode": {
    "name": "ipython",
    "version": 3
   },
   "file_extension": ".py",
   "mimetype": "text/x-python",
   "name": "python",
   "nbconvert_exporter": "python",
   "pygments_lexer": "ipython3",
   "version": "3.10.2 (tags/v3.10.2:a58ebcc, Jan 17 2022, 14:12:15) [MSC v.1929 64 bit (AMD64)]"
  },
  "orig_nbformat": 4,
  "vscode": {
   "interpreter": {
    "hash": "356998c43310144b96a2843b6a00592392af50ee3be89b7f2bab29543afc8c0d"
   }
  }
 },
 "nbformat": 4,
 "nbformat_minor": 2
}
